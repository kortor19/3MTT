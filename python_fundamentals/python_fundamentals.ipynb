{
  "nbformat": 4,
  "nbformat_minor": 0,
  "metadata": {
    "colab": {
      "provenance": []
    },
    "kernelspec": {
      "name": "python3",
      "display_name": "Python 3"
    },
    "language_info": {
      "name": "python"
    }
  },
  "cells": [
    {
      "cell_type": "code",
      "execution_count": null,
      "metadata": {
        "id": "-rbAL9MlQQYO"
      },
      "outputs": [],
      "source": []
    },
    {
      "cell_type": "markdown",
      "source": [
        "## Fundamentals of python\n",
        "### Task One:Create a quiz game made up of 5 questions. The user should be able to enter in answers and the final score calculated"
      ],
      "metadata": {
        "id": "TlMiYbzoQUVo"
      }
    },
    {
      "cell_type": "code",
      "source": [
        "#Initialize score\n",
        "score = 0\n",
        "\n",
        "#welcome message to quiz game\n",
        "print(\"Welcome to the Quiz Game!\")\n",
        "print(\"You will be asked 5 questions. Let's begin!\\n\")\n",
        "\n",
        "#Create questions and answers, store them in a list of dictionaries\n",
        "questions = [\n",
        "    {\n",
        "        \"question\": \"What is the capital city of Nigeria ?\",\n",
        "        \"answer\": \"Abuja\"\n",
        "     },\n",
        "    {\n",
        "        \"question\": \"What is keyword to define function in python ?\",\n",
        "        \"answer\": \"def\"\n",
        "     },\n",
        "    {\n",
        "        \"question\": \"Who created Python Programming Language ?\",\n",
        "        \"answer\": \"Guido van Rossum\"\n",
        "     },\n",
        "     {\n",
        "        \"question\": \"Which year was python programming released ?\",\n",
        "        \"answer\": \"1991\"\n",
        "     },\n",
        "\n",
        "     {\n",
        "        \"question\": \"What is the keyword to define class in python ?\",\n",
        "        \"answer\": \"class\"\n",
        "     }\n",
        "]\n",
        "\n",
        "#Create logic quiz\n",
        "#loop through each question\n",
        "for i, q in enumerate(questions, 1):\n",
        "  print(f\"Question {i}: {q['question']}\")\n",
        "  user_answer = input(\"Enter Answer: \")\n",
        "\n",
        "#check if the answer is correct - case insensitive\n",
        "  if user_answer.lower() == q['answer'].lower():\n",
        "    print(\"Correct!\\n\")\n",
        "    score += 1\n",
        "\n",
        "  else:\n",
        "    print(f\" You are wrong!. The correct answer is : {q['answer']}\\n\")\n",
        "\n",
        "#Display the final results\n",
        "#Calculate percentage\n",
        "percentage = (score / len(questions)) * 100\n",
        "\n",
        "print(\"\\nQuiz Completed!\")\n",
        "print(f\"Your final score is : {score}/{len(questions)}\")\n",
        "print(f\"Percentage: {percentage}%\")\n",
        "\n",
        "#provide some feedback\n",
        "if percentage == 100:\n",
        "    print(\"Perfect! You got all questions right!\")\n",
        "elif percentage >= 70:\n",
        "    print(\"Well done! Good score!\")\n",
        "elif percentage >= 50:\n",
        "    print(\"Not bad! Keep practicing!\")\n",
        "else:\n",
        "    print(\"Keep learning! You'll do better next time.\")\n"
      ],
      "metadata": {
        "colab": {
          "base_uri": "https://localhost:8080/"
        },
        "id": "afkwuKilQ-XP",
        "outputId": "c8e791dc-4159-4085-a5ba-10ac961e0a26"
      },
      "execution_count": null,
      "outputs": [
        {
          "output_type": "stream",
          "name": "stdout",
          "text": [
            "Welcome to the Quiz Game!\n",
            "You will be asked 5 questions. Let's begin!\n",
            "\n",
            "Question 1: What is the capital city of Nigeria ?\n",
            "Enter Answer: Abuja\n",
            "Correct!\n",
            "\n",
            "Question 2: What is keyword to define function in python ?\n",
            "Enter Answer: def\n",
            "Correct!\n",
            "\n",
            "Question 3: Who created Python Programming Language ?\n",
            "Enter Answer: 1992\n",
            " You are wrong!. The correct answer is : Guido van Rossum\n",
            "\n",
            "Question 4: Which year was python programming released ?\n",
            "Enter Answer: 1991\n",
            "Correct!\n",
            "\n",
            "Question 5: What is the keyword to define class in python ?\n",
            "Enter Answer: class\n",
            "Correct!\n",
            "\n",
            "\n",
            "Quiz Completed!\n",
            "Your final score is : 4/5\n",
            "Percentage: 80.0%\n",
            "Well done! Good score!\n"
          ]
        }
      ]
    },
    {
      "cell_type": "markdown",
      "source": [
        "#Number Swapping\n",
        "##Task Two: Swapping two numbers in Python\n",
        "###Objective: Create a Python program that swaps two numbers entered by the user and displays the values before and after swapping\n",
        "\n"
      ],
      "metadata": {
        "id": "zUfKfjFRDYvt"
      }
    },
    {
      "cell_type": "code",
      "source": [
        "#program to swap two numbers\n",
        "def swap_numbers():\n",
        "    \"\"\"Function to swap two numbers with input validation\"\"\"\n",
        "    while True:\n",
        "        try:\n",
        "            # Get input from user\n",
        "            num1 = input(\"Enter first number: \")\n",
        "            num2 = input(\"Enter second number: \")\n",
        "\n",
        "            # Convert to float (handles both integers and decimals)\n",
        "            num1 = float(num1)\n",
        "            num2 = float(num2)\n",
        "\n",
        "            # Display before swap\n",
        "            print(f\"\\nBefore swap: num1 = {num1}, num2 = {num2}\")\n",
        "\n",
        "            # Pythonic swap\n",
        "            num1, num2 = num2, num1\n",
        "\n",
        "            # Display after swap\n",
        "            print(f\"After swap:  num1 = {num1}, num2 = {num2}\")\n",
        "\n",
        "            break  # Exit loop if successful\n",
        "\n",
        "        except ValueError:\n",
        "            print(\"Error: Please enter valid numbers only (integers or floats).\\n\")\n",
        "            continue  # Ask for input again\n",
        "\n",
        "# Run the program\n",
        "if __name__ == \"__main__\":\n",
        "    print(\"Number Swapping Program\")\n",
        "    print(\"-----------------------\")\n",
        "    swap_numbers()"
      ],
      "metadata": {
        "colab": {
          "base_uri": "https://localhost:8080/"
        },
        "id": "QiSkdMrvDx_1",
        "outputId": "b401195c-f97b-4647-b1ae-f0f2fae9421e"
      },
      "execution_count": null,
      "outputs": [
        {
          "output_type": "stream",
          "name": "stdout",
          "text": [
            "Number Swapping Program\n",
            "-----------------------\n",
            "Enter first number: 30\n",
            "Enter second number: 60\n",
            "\n",
            "Before swap: num1 = 30.0, num2 = 60.0\n",
            "After swap:  num1 = 60.0, num2 = 30.0\n"
          ]
        }
      ]
    },
    {
      "cell_type": "markdown",
      "source": [
        "#Prime/Armstrong/Palindrome Number Identifier\n",
        "## Task Three: Write a code/logic to determine if the value entered is a Prime number, an Armstrong Number or a Palindrome number.\n",
        "###Objective: To create a Python program that checks whether a user-entered number is a Prime number, Armstrong number, or Palindrome, and displays the results accordingly"
      ],
      "metadata": {
        "id": "ajrdAb_IJI9S"
      }
    },
    {
      "cell_type": "code",
      "source": [
        "#Program to determine if number is a Prime Number, Armstrong or Palindrome\n",
        "\n",
        "def is_prime(n):\n",
        "  \"\"\"check if the number is prime\"\"\"\n",
        "  if n <= 1:\n",
        "    return False\n",
        "  if n <= 3:\n",
        "    return True\n",
        "  if n % 2 == 0 or n % 3 == 0:\n",
        "    return False\n",
        "  i = 5\n",
        "  while i * i <= n:\n",
        "    if n % i ==0 or n % (i + 2) ==0:\n",
        "      return False\n",
        "    i += 6\n",
        "  return True\n",
        "\n",
        "\n",
        "def is_armstrong(n):\n",
        "  \"\"\"check if a number is an amstrong number\"\"\"\n",
        "  \"\"\" An Armstrong number (also called narcissistic number) is a number that\n",
        "   is equal to the sum of its own digits each raised to the power of the\n",
        "   number of digit\"\"\"\n",
        "\n",
        "  original_num = n\n",
        "  num_digits = len(str(n))\n",
        "  sum = 0\n",
        "  temp = n\n",
        "\n",
        "  while temp > 0:\n",
        "    digit = temp % 10\n",
        "    sum += digit ** num_digits\n",
        "    temp = temp // 10\n",
        "  return sum == original_num\n",
        "\n",
        "def is_palindrome(n):\n",
        "    \"\"\"Check if a number is a palindrome.\"\"\"\n",
        "    num_str = str(n)\n",
        "    return num_str == num_str[::-1]\n",
        "\n",
        "def number_checker():\n",
        "    \"\"\"Main function to check number properties.\"\"\"\n",
        "    print(\"Number Properties Checker\")\n",
        "    print(\"-------------------------\")\n",
        "\n",
        "    try:\n",
        "        num = int(input(\"Enter a positive integer: \"))\n",
        "        if num <= 0:\n",
        "            print(\"Please enter a positive integer.\")\n",
        "            return\n",
        "\n",
        "        print(f\"\\nResults for the number {num}:\")\n",
        "\n",
        "        # Prime check\n",
        "        if is_prime(num):\n",
        "            print(f\"- {num} is a prime number.\")\n",
        "        else:\n",
        "            print(f\"- {num} is not a prime number.\")\n",
        "\n",
        "        # Armstrong check\n",
        "        if is_armstrong(num):\n",
        "            print(f\"- {num} is an Armstrong number.\")\n",
        "        else:\n",
        "            print(f\"- {num} is not an Armstrong number.\")\n",
        "\n",
        "        # Palindrome check\n",
        "        if is_palindrome(num):\n",
        "            print(f\"- {num} is a palindrome.\")\n",
        "        else:\n",
        "            print(f\"- {num} is not a palindrome.\")\n",
        "\n",
        "    except ValueError:\n",
        "        print(\"Invalid input. Please enter a valid integer.\")\n",
        "\n",
        "# Run the program\n",
        "if __name__ == \"__main__\":\n",
        "    number_checker()\n"
      ],
      "metadata": {
        "colab": {
          "base_uri": "https://localhost:8080/"
        },
        "id": "al-yWSxyJgNB",
        "outputId": "e0a4f4ca-0128-4433-f69b-d30835da520f"
      },
      "execution_count": null,
      "outputs": [
        {
          "output_type": "stream",
          "name": "stdout",
          "text": [
            "Number Properties Checker\n",
            "-------------------------\n",
            "Enter a positive integer: 45\n",
            "\n",
            "Results for the number 45:\n",
            "- 45 is not a prime number.\n",
            "- 45 is not an Armstrong number.\n",
            "- 45 is not a palindrome.\n"
          ]
        }
      ]
    },
    {
      "cell_type": "markdown",
      "source": [
        "#The Fibonacci Sequence\n",
        "#Task Four: Generate the Fibonacci Sequence.\n",
        "### Objective: To create a Python program that generates the first n terms of the Fibonacci sequence based on user input."
      ],
      "metadata": {
        "id": "AvYOO5yFf_Am"
      }
    },
    {
      "cell_type": "code",
      "source": [
        "#program to generate  Fibonacci sequence\n",
        "def fibonacci_sequence(n_terms):\n",
        "    \"\"\"\n",
        "    Generate the Fibonacci sequence up to n_terms.\n",
        "\n",
        "    Args:\n",
        "        n_terms (int): Number of terms to generate\n",
        "\n",
        "    Returns:\n",
        "        list: Fibonacci sequence as a list\n",
        "    \"\"\"\n",
        "    sequence = []\n",
        "\n",
        "    # First two terms\n",
        "    a, b = 0, 1\n",
        "\n",
        "    for _ in range(n_terms):\n",
        "        sequence.append(a)\n",
        "        a, b = b, a + b  # Update the values for the next iteration\n",
        "\n",
        "    return sequence\n",
        "\n",
        "# Get user input for the number of terms\n",
        "try:\n",
        "    num_terms = int(input(\"How many Fibonacci numbers would you like to generate? \"))\n",
        "    if num_terms <= 0:\n",
        "        print(\"Please enter a positive integer.\")\n",
        "    else:\n",
        "        fib_sequence = fibonacci_sequence(num_terms)\n",
        "        print(\"Fibonacci Sequence:\")\n",
        "        print(fib_sequence)\n",
        "except ValueError:\n",
        "    print(\"Invalid input. Please enter a positive integer.\")"
      ],
      "metadata": {
        "id": "J6W2X-CtgbF6",
        "colab": {
          "base_uri": "https://localhost:8080/"
        },
        "outputId": "954b8e5e-6af0-4099-9be7-2a109eacf0aa"
      },
      "execution_count": null,
      "outputs": [
        {
          "output_type": "stream",
          "name": "stdout",
          "text": [
            "How many Fibonacci numbers would you like to generate? 5\n",
            "Fibonacci Sequence:\n",
            "[0, 1, 1, 2, 3]\n"
          ]
        }
      ]
    },
    {
      "cell_type": "markdown",
      "source": [
        "###The Fibonacci sequence is defined by the recurrence relation"
      ],
      "metadata": {
        "id": "Yp32JHq3Crt2"
      }
    }
  ]
}